{
 "cells": [
  {
   "cell_type": "markdown",
   "metadata": {},
   "source": [
    "# Machine Learning on Walking Activity Detection in PD patients\n",
    "\n",
    "## 0. Initialization\n",
    "\n",
    "### 0.1 Imports"
   ]
  },
  {
   "cell_type": "code",
   "execution_count": 1,
   "metadata": {},
   "outputs": [],
   "source": [
    "import pandas as pd\n",
    "import numpy as np\n",
    "from scipy import signal\n",
    "import tensorflow as tf\n",
    "from imblearn.under_sampling import RandomUnderSampler\n",
    "from collections import Counter\n",
    "from sklearn.model_selection import train_test_split\n",
    "from sklearn.metrics import accuracy_score\n",
    "from sklearn.metrics import precision_score\n",
    "from sklearn.metrics import recall_score\n",
    "from sklearn.metrics import f1_score\n",
    "from tensorflow.keras.optimizers import SGD\n",
    "from tensorflow.keras.models import Sequential, load_model\n",
    "from tensorflow.keras import backend as K\n",
    "from tensorflow.keras.layers import Dense, Dropout\n",
    "from tensorflow.keras.wrappers.scikit_learn import KerasClassifier\n",
    "from tensorflow.keras.callbacks import EarlyStopping, ModelCheckpoint\n",
    "from sklearn.model_selection import cross_val_score\n",
    "from sklearn.model_selection import StratifiedKFold\n",
    "from matplotlib import pyplot as plt\n",
    "import os"
   ]
  },
  {
   "cell_type": "markdown",
   "metadata": {},
   "source": [
    "### 0.2 Functions"
   ]
  },
  {
   "cell_type": "code",
   "execution_count": 2,
   "metadata": {},
   "outputs": [],
   "source": [
    "def resample_data(df, frequency):\n",
    "    dx = np.zeros(len(df))\n",
    "    dy = np.zeros(len(df))\n",
    "    dz = np.zeros(len(df))\n",
    "    xSlope = np.zeros(len(df))\n",
    "    ySlope = np.zeros(len(df))\n",
    "    zSlope = np.zeros(len(df))\n",
    "    xIntercept = np.zeros(len(df))\n",
    "    yIntercept = np.zeros(len(df))\n",
    "    zIntercept = np.zeros(len(df))\n",
    "\n",
    "    new_x = []\n",
    "    new_y = []\n",
    "    new_z = []\n",
    "\n",
    "    for i in range(1, len(df)):\n",
    "        dtime = df.loc[i, 0] - df.loc[i-1, 0]\n",
    "        dx[i] = df.loc[i, 1] - df.loc[i-1, 1]\n",
    "        dy[i] = df.loc[i, 2] - df.loc[i-1, 2]\n",
    "        dz[i] = df.loc[i, 3] - df.loc[i-1, 3]\n",
    "        xSlope[i] = dx[i] / dtime\n",
    "        ySlope[i] = dy[i] / dtime\n",
    "        zSlope[i] = dz[i] / dtime\n",
    "        xIntercept[i] = df.loc[i, 1]\n",
    "        yIntercept[i] = df.loc[i, 2]\n",
    "        zIntercept[i] = df.loc[i, 3]\n",
    "\n",
    "    df_new = pd.DataFrame()\n",
    "\n",
    "    time = list(np.around(np.arange(df.loc[0,0], df.loc[len(df)-1, 0], 1/frequency), 2))\n",
    "\n",
    "    best_j = 0\n",
    "    for i in range(len(time)):\n",
    "        best_value = float(\"inf\")\n",
    "        j = best_j\n",
    "        for _ in range(15):\n",
    "            if j == len(df):\n",
    "                break\n",
    "            diff = df.loc[j, 0] - time[i]\n",
    "            if diff > 0.15:\n",
    "                break\n",
    "\n",
    "            if abs(diff) < best_value:\n",
    "                best_value = abs(diff)\n",
    "                best_j = j\n",
    "            j+=1\n",
    "        timeI = time[i] - df.loc[best_j, 0]\n",
    "\n",
    "        best_value = df.loc[best_j, 0] - time[i]\n",
    "        new_x.append(xSlope[best_j] * best_value + xIntercept[best_j])\n",
    "        new_y.append(ySlope[best_j] * best_value + yIntercept[best_j])\n",
    "        new_z.append(zSlope[best_j] * best_value + zIntercept[best_j])\n",
    "    \n",
    "    df_new[0] = time\n",
    "    df_new[1] = new_x\n",
    "    df_new[2] = new_y\n",
    "    df_new[3] = new_z\n",
    "    return df_new\n",
    "\n",
    "\n",
    "def butter_bandpass(cut, fs, order, btype):\n",
    "    \"\"\"\n",
    "    A function which created a filter. It can be a bandpass,\n",
    "    lowpass or highpass filter to apply for signal.\n",
    "    It makes use of the signal class of the scipy package.\n",
    "        *cut: frequency value which will serve to cut the signal\n",
    "        *fs: frequency of the signal\n",
    "        *order: from 1 to N it changes the way the signal is filtered\n",
    "        *btype: 'bandpass', 'low' or 'high'\n",
    "    \"\"\"\n",
    "    nyq = 0.5 * fs\n",
    "    high_low = cut / nyq\n",
    "    b, a = signal.butter(order, high_low, btype)\n",
    "    return b, a\n",
    "\n",
    "\n",
    "def butter_bandpass_filter(data, cut, fs, order=4, btype=\"low\"):\n",
    "    \"\"\"\n",
    "    This function employs the butter_bandpass to a dataset.\n",
    "    It has some default values which are mainly used in this project.\n",
    "    \"\"\"\n",
    "    b, a = butter_bandpass(cut, fs, order, btype)\n",
    "    y = signal.filtfilt(b, a, data)\n",
    "    return y\n",
    "\n",
    "\n",
    "def butter_bp_data(data, lower_than, fs, order, btype):\n",
    "    \"\"\"\n",
    "    This function applies the bandpass to a dataset\n",
    "    with 4 dimensions, supposing that the 1st is the time dimension.\n",
    "    \"\"\"\n",
    "    for i in range(1, 4):\n",
    "        data[i] = butter_bandpass_filter(data[i], lower_than, fs, order, btype)\n",
    "    return data\n",
    "\n",
    "\n",
    "def applyOffsetRemove(df):\n",
    "    df[1] = np.subtract(df[1], np.average(df[1]))\n",
    "    df[2] = np.subtract(df[2], np.average(df[2]))\n",
    "    df[3] = np.subtract(df[3], np.average(df[3]))"
   ]
  },
  {
   "cell_type": "markdown",
   "metadata": {},
   "source": [
    "## 1 Processing data\n",
    "\n",
    "This section will consist of several parts\n",
    "\n",
    "+ Resample the data to 10Hz (Check)\n",
    "+ The data must start at first timestamp and stop at last timestamp (Check)\n",
    "+ Analysing if data should be normalized\n",
    "+ Data goes to .csv and anonimized\n",
    "\n",
    "To start I open the Timestamps CSV which contains the timestamps of start and end when the patient was walking."
   ]
  },
  {
   "cell_type": "code",
   "execution_count": 3,
   "metadata": {},
   "outputs": [
    {
     "data": {
      "text/html": [
       "<div>\n",
       "<style scoped>\n",
       "    .dataframe tbody tr th:only-of-type {\n",
       "        vertical-align: middle;\n",
       "    }\n",
       "\n",
       "    .dataframe tbody tr th {\n",
       "        vertical-align: top;\n",
       "    }\n",
       "\n",
       "    .dataframe thead th {\n",
       "        text-align: right;\n",
       "    }\n",
       "</style>\n",
       "<table border=\"1\" class=\"dataframe\">\n",
       "  <thead>\n",
       "    <tr style=\"text-align: right;\">\n",
       "      <th></th>\n",
       "      <th>Timestamp S</th>\n",
       "      <th>Timestamp E</th>\n",
       "      <th>From</th>\n",
       "      <th>To</th>\n",
       "      <th>Seconds S</th>\n",
       "      <th>Seconds E</th>\n",
       "    </tr>\n",
       "  </thead>\n",
       "  <tbody>\n",
       "    <tr>\n",
       "      <th>0</th>\n",
       "      <td>1561983739</td>\n",
       "      <td>1561983747</td>\n",
       "      <td>00:02:21</td>\n",
       "      <td>00:02:29</td>\n",
       "      <td>0</td>\n",
       "      <td>8</td>\n",
       "    </tr>\n",
       "    <tr>\n",
       "      <th>1</th>\n",
       "      <td>1561983768</td>\n",
       "      <td>1561983776</td>\n",
       "      <td>00:02:50</td>\n",
       "      <td>00:02:58</td>\n",
       "      <td>29</td>\n",
       "      <td>8</td>\n",
       "    </tr>\n",
       "    <tr>\n",
       "      <th>2</th>\n",
       "      <td>1561983784</td>\n",
       "      <td>1561983791</td>\n",
       "      <td>00:03:06</td>\n",
       "      <td>00:03:13</td>\n",
       "      <td>45</td>\n",
       "      <td>7</td>\n",
       "    </tr>\n",
       "    <tr>\n",
       "      <th>3</th>\n",
       "      <td>1561983807</td>\n",
       "      <td>1561983817</td>\n",
       "      <td>00:03:29</td>\n",
       "      <td>00:03:39</td>\n",
       "      <td>68</td>\n",
       "      <td>10</td>\n",
       "    </tr>\n",
       "    <tr>\n",
       "      <th>4</th>\n",
       "      <td>1561983831</td>\n",
       "      <td>1561983842</td>\n",
       "      <td>00:03:53</td>\n",
       "      <td>00:04:04</td>\n",
       "      <td>92</td>\n",
       "      <td>11</td>\n",
       "    </tr>\n",
       "  </tbody>\n",
       "</table>\n",
       "</div>"
      ],
      "text/plain": [
       "   Timestamp S  Timestamp E      From        To  Seconds S  Seconds E\n",
       "0   1561983739   1561983747  00:02:21  00:02:29          0          8\n",
       "1   1561983768   1561983776  00:02:50  00:02:58         29          8\n",
       "2   1561983784   1561983791  00:03:06  00:03:13         45          7\n",
       "3   1561983807   1561983817  00:03:29  00:03:39         68         10\n",
       "4   1561983831   1561983842  00:03:53  00:04:04         92         11"
      ]
     },
     "execution_count": 3,
     "metadata": {},
     "output_type": "execute_result"
    }
   ],
   "source": [
    "file_ts = \"data/TS@P1.csv\"\n",
    "\n",
    "df_ts = pd.read_csv(file_ts)\n",
    "\n",
    "start = df_ts.loc[0, 'Timestamp S']\n",
    "end = df_ts.loc[len(df_ts)-1, 'Timestamp E']\n",
    "\n",
    "df_ts.head()"
   ]
  },
  {
   "cell_type": "markdown",
   "metadata": {},
   "source": [
    "The only values we want from this CSV are the 'Timestamp S' and 'Timestamp E'. They are the timestamps for starting and ending a walking segment.\n",
    "\n",
    "I will load the dataset for patient 1, resample it to 10Hz instead of 100Hz and cut the DataFrame on the starting timestamp and ending timestamp since there might exist movements associated with walking that were not observed in the timestamps CSV."
   ]
  },
  {
   "cell_type": "code",
   "execution_count": 4,
   "metadata": {},
   "outputs": [],
   "source": [
    "file = file_ts.split(\"@\")[1]\n",
    "df = pd.read_csv(\"data/\" + file, header=None)\n",
    "df = df[(df[0] > start) & (df[0] < end)].reset_index(drop=True)\n",
    "df = resample_data(df, 33)"
   ]
  },
  {
   "cell_type": "code",
   "execution_count": 5,
   "metadata": {},
   "outputs": [
    {
     "data": {
      "text/plain": [
       "[<matplotlib.lines.Line2D at 0x7fbc4465fb70>]"
      ]
     },
     "execution_count": 5,
     "metadata": {},
     "output_type": "execute_result"
    },
    {
     "data": {
      "image/png": "[encoded data removed]",
      "text/plain": [
       "<Figure size 432x288 with 1 Axes>"
      ]
     },
     "metadata": {
      "needs_background": "light"
     },
     "output_type": "display_data"
    }
   ],
   "source": [
    "plt.plot(df[0], df[1])"
   ]
  },
  {
   "cell_type": "markdown",
   "metadata": {},
   "source": [
    "As we can see there is a lot of noise in the data, including the effect of gravity on this axis, justifying why the data is centered around -0.5g.\n",
    "\n",
    "To improve the data for classification, we remove this offset and apply a Butterworth filter to eliminate all movements above 0.5Hz. By applying this filter we are not allowing for the detection of any step that takes more than 2 seconds."
   ]
  },
  {
   "cell_type": "code",
   "execution_count": 6,
   "metadata": {},
   "outputs": [],
   "source": [
    "applyOffsetRemove(df)\n",
    "df = butter_bp_data(df, 0.5, 10, 4, 'high')"
   ]
  },
  {
   "cell_type": "code",
   "execution_count": 7,
   "metadata": {},
   "outputs": [
    {
     "data": {
      "text/plain": [
       "[<matplotlib.lines.Line2D at 0x7fbc44ba2710>]"
      ]
     },
     "execution_count": 7,
     "metadata": {},
     "output_type": "execute_result"
    },
    {
     "data": {
      "image/png": "[encoded data removed]",
      "text/plain": [
       "<Figure size 432x288 with 1 Axes>"
      ]
     },
     "metadata": {
      "needs_background": "light"
     },
     "output_type": "display_data"
    }
   ],
   "source": [
    "plt.plot(df[0], df[1])"
   ]
  },
  {
   "cell_type": "code",
   "execution_count": 8,
   "metadata": {},
   "outputs": [
    {
     "name": "stdout",
     "output_type": "stream",
     "text": [
      "Maximum value for x-axis is: 0.602\n",
      "Minimum value for x-axis is: -0.609\n",
      "Maximum value for y-axis is: 0.637\n",
      "Minimum value for y-axis is: -0.466\n",
      "Maximum value for z-axis is: 0.456\n",
      "Minimum value for z-axis is: -0.467\n"
     ]
    }
   ],
   "source": [
    "# What are the max and the minimum values of this dataset?\n",
    "\n",
    "print(f\"Maximum value for x-axis is: {df[1].quantile(0.999):.3}\")\n",
    "print(f\"Minimum value for x-axis is: {df[1].quantile(0.001):.3}\")\n",
    "print(f\"Maximum value for y-axis is: {df[2].quantile(0.999):.3}\")\n",
    "print(f\"Minimum value for y-axis is: {df[2].quantile(0.001):.3}\")\n",
    "print(f\"Maximum value for z-axis is: {df[3].quantile(0.999):.3}\")\n",
    "print(f\"Minimum value for z-axis is: {df[3].quantile(0.001):.3}\")"
   ]
  },
  {
   "cell_type": "markdown",
   "metadata": {},
   "source": [
    "To understand if it is needed to normalize the data, the max and min values will be compared across 4 datasets. The first one is above, but I will check as well for 3 more files: P2, P3, P5."
   ]
  },
  {
   "cell_type": "code",
   "execution_count": 30,
   "metadata": {},
   "outputs": [],
   "source": [
    "def check_max_min_values(*args):\n",
    "    for arg in args:\n",
    "        file_ts = \"data/TS@\" + arg + \".csv\"\n",
    "        df_ts = pd.read_csv(file_ts)\n",
    "        start = df_ts.loc[0, 'Timestamp S']\n",
    "        end = df_ts.loc[len(df_ts)-1, 'Timestamp E']\n",
    "        file = file_ts.split(\"@\")[1]\n",
    "        df = pd.read_csv(\"data/\" + file, header=None)\n",
    "        df = df[(df[0] > start) & (df[0] < end)].reset_index(drop=True)\n",
    "        df = resample_data(df, 33)\n",
    "        applyOffsetRemove(df)\n",
    "        df = butter_bp_data(df, 0.5, 10, 4, 'high')\n",
    "        print(f\"Maximum value for {arg} x-axis is: {df[1].quantile(0.999):.3}\")\n",
    "        print(f\"Minimum value for {arg} x-axis is: {df[1].quantile(0.001):.3}\")\n",
    "        print(f\"Maximum value for {arg} y-axis is: {df[2].quantile(0.999):.3}\")\n",
    "        print(f\"Minimum value for {arg} y-axis is: {df[2].quantile(0.001):.3}\")\n",
    "        print(f\"Maximum value for {arg} z-axis is: {df[3].quantile(0.999):.3}\")\n",
    "        print(f\"Minimum value for {arg} z-axis is: {df[3].quantile(0.001):.3}\")"
   ]
  },
  {
   "cell_type": "code",
   "execution_count": 31,
   "metadata": {},
   "outputs": [
    {
     "name": "stdout",
     "output_type": "stream",
     "text": [
      "Maximum value for P2 x-axis is: 0.334\n",
      "Minimum value for P2 x-axis is: -0.389\n",
      "Maximum value for P2 y-axis is: 0.327\n",
      "Minimum value for P2 y-axis is: -0.402\n",
      "Maximum value for P2 z-axis is: 0.266\n",
      "Minimum value for P2 z-axis is: -0.294\n",
      "Maximum value for P3 x-axis is: 0.345\n",
      "Minimum value for P3 x-axis is: -0.394\n",
      "Maximum value for P3 y-axis is: 0.211\n",
      "Minimum value for P3 y-axis is: -0.237\n",
      "Maximum value for P3 z-axis is: 0.373\n",
      "Minimum value for P3 z-axis is: -0.314\n",
      "Maximum value for P5 x-axis is: 0.495\n",
      "Minimum value for P5 x-axis is: -0.491\n",
      "Maximum value for P5 y-axis is: 0.357\n",
      "Minimum value for P5 y-axis is: -0.489\n",
      "Maximum value for P5 z-axis is: 0.381\n",
      "Minimum value for P5 z-axis is: -0.321\n"
     ]
    }
   ],
   "source": [
    "files = [\"P2\", \"P3\", \"P5\"]\n",
    "check_max_min_values(*files)"
   ]
  },
  {
   "cell_type": "markdown",
   "metadata": {},
   "source": [
    "Data seems to not need any normalization since it is mostly varying between -0.4 and 0.4 in all the 3 axis. To get these values, a quantile of 99.9% and 0.1% were used in order to leave out the outlier movements.\n",
    "\n",
    "## 2. Preparing Dataset for Classifiers"
   ]
  },
  {
   "cell_type": "markdown",
   "metadata": {},
   "source": [
    "Preparing the dataset implied creating the target variable recurring to the observed timestamps. The features will be all the accelerations 0.5sec to the left and right."
   ]
  },
  {
   "cell_type": "code",
   "execution_count": 9,
   "metadata": {},
   "outputs": [],
   "source": [
    "def add_target(df, df_ts):\n",
    "    for i in df_ts.index:\n",
    "        start, end = df_ts.loc[i,['Timestamp S', 'Timestamp E']].values\n",
    "        df[f\"target {i}\"] = df[0].apply(lambda x: 1 if ((x > start) & (x < end)) else 0)\n",
    "    df[\"target\"] = df.loc[:,\"target 0\":f\"target {len(df_ts)-1}\"].sum(axis=1)\n",
    "    columns = [0, 1, 2, 3, \"target\"]\n",
    "    return df[columns]\n",
    "    \n",
    "\n",
    "def create_X_y(df, window = 30):\n",
    "    X = np.full((len(df[0]), window*3), -50, dtype=float)\n",
    "\n",
    "    for i in range(int(window/2), len(df)-int(window/2)):\n",
    "        X[i] = df[[1,2,3]][int(i-window/2):int(i+window/2)].values.reshape(1,-1)[0]\n",
    "\n",
    "    y = np.asmatrix(df['target']).T\n",
    "    data = np.hstack((X,y))\n",
    "    data = data[int(window/2):-int(window/2)]\n",
    "    return data"
   ]
  },
  {
   "cell_type": "code",
   "execution_count": 10,
   "metadata": {},
   "outputs": [
    {
     "data": {
      "text/html": [
       "<div>\n",
       "<style scoped>\n",
       "    .dataframe tbody tr th:only-of-type {\n",
       "        vertical-align: middle;\n",
       "    }\n",
       "\n",
       "    .dataframe tbody tr th {\n",
       "        vertical-align: top;\n",
       "    }\n",
       "\n",
       "    .dataframe thead th {\n",
       "        text-align: right;\n",
       "    }\n",
       "</style>\n",
       "<table border=\"1\" class=\"dataframe\">\n",
       "  <thead>\n",
       "    <tr style=\"text-align: right;\">\n",
       "      <th></th>\n",
       "      <th>0</th>\n",
       "      <th>1</th>\n",
       "      <th>2</th>\n",
       "      <th>3</th>\n",
       "      <th>target</th>\n",
       "    </tr>\n",
       "  </thead>\n",
       "  <tbody>\n",
       "    <tr>\n",
       "      <th>0</th>\n",
       "      <td>1.561984e+09</td>\n",
       "      <td>0.001066</td>\n",
       "      <td>-0.006039</td>\n",
       "      <td>-0.001764</td>\n",
       "      <td>1</td>\n",
       "    </tr>\n",
       "    <tr>\n",
       "      <th>1</th>\n",
       "      <td>1.561984e+09</td>\n",
       "      <td>0.137257</td>\n",
       "      <td>0.725025</td>\n",
       "      <td>-0.278115</td>\n",
       "      <td>1</td>\n",
       "    </tr>\n",
       "    <tr>\n",
       "      <th>2</th>\n",
       "      <td>1.561984e+09</td>\n",
       "      <td>-0.010036</td>\n",
       "      <td>0.492054</td>\n",
       "      <td>-0.147995</td>\n",
       "      <td>1</td>\n",
       "    </tr>\n",
       "    <tr>\n",
       "      <th>3</th>\n",
       "      <td>1.561984e+09</td>\n",
       "      <td>-0.060234</td>\n",
       "      <td>0.308295</td>\n",
       "      <td>-0.090331</td>\n",
       "      <td>1</td>\n",
       "    </tr>\n",
       "    <tr>\n",
       "      <th>4</th>\n",
       "      <td>1.561984e+09</td>\n",
       "      <td>-0.056496</td>\n",
       "      <td>0.155705</td>\n",
       "      <td>-0.069158</td>\n",
       "      <td>1</td>\n",
       "    </tr>\n",
       "  </tbody>\n",
       "</table>\n",
       "</div>"
      ],
      "text/plain": [
       "              0         1         2         3  target\n",
       "0  1.561984e+09  0.001066 -0.006039 -0.001764       1\n",
       "1  1.561984e+09  0.137257  0.725025 -0.278115       1\n",
       "2  1.561984e+09 -0.010036  0.492054 -0.147995       1\n",
       "3  1.561984e+09 -0.060234  0.308295 -0.090331       1\n",
       "4  1.561984e+09 -0.056496  0.155705 -0.069158       1"
      ]
     },
     "execution_count": 10,
     "metadata": {},
     "output_type": "execute_result"
    }
   ],
   "source": [
    "df = add_target(df, df_ts)\n",
    "df.head()"
   ]
  },
  {
   "cell_type": "code",
   "execution_count": 11,
   "metadata": {},
   "outputs": [
    {
     "data": {
      "text/plain": [
       "0    49137\n",
       "1     7161\n",
       "Name: target, dtype: int64"
      ]
     },
     "execution_count": 11,
     "metadata": {},
     "output_type": "execute_result"
    }
   ],
   "source": [
    "df['target'].value_counts()"
   ]
  },
  {
   "cell_type": "code",
   "execution_count": 16,
   "metadata": {},
   "outputs": [],
   "source": [
    "df_path = os.path.join(\"data\", f\"P1_p.npy\")\n",
    "\n",
    "if not os.path.isfile(df_path):\n",
    "    data = create_X_y(df)\n",
    "else:\n",
    "    data = np.load(df_path)"
   ]
  },
  {
   "cell_type": "code",
   "execution_count": 17,
   "metadata": {},
   "outputs": [
    {
     "name": "stdout",
     "output_type": "stream",
     "text": [
      "This dataset has 56268 entries and 91 features\n"
     ]
    }
   ],
   "source": [
    "print(f\"This dataset has {data.shape[0]} entries and {data.shape[1]-1} features\")"
   ]
  },
  {
   "cell_type": "markdown",
   "metadata": {},
   "source": [
    "### 2.1 Preparing files for all patients"
   ]
  },
  {
   "cell_type": "code",
   "execution_count": 3,
   "metadata": {},
   "outputs": [
    {
     "data": {
      "text/plain": [
       "['P1',\n",
       " 'P2',\n",
       " 'P3',\n",
       " 'P5',\n",
       " 'P6',\n",
       " 'P7',\n",
       " 'P8',\n",
       " 'P9',\n",
       " 'P10',\n",
       " 'P11',\n",
       " 'P12',\n",
       " 'P13',\n",
       " 'P14',\n",
       " 'P15',\n",
       " 'P16']"
      ]
     },
     "execution_count": 3,
     "metadata": {},
     "output_type": "execute_result"
    }
   ],
   "source": [
    "files = [f\"P{n}\" for n in range(1,17)]\n",
    "files.remove(\"P4\") # Had to be removed due to problems in timestamps\n",
    "files"
   ]
  },
  {
   "cell_type": "code",
   "execution_count": 4,
   "metadata": {},
   "outputs": [],
   "source": [
    "def process_data(*args):\n",
    "    for arg in args:\n",
    "        df_path = os.path.join(\"data\", f\"{arg}_p.npy\")\n",
    "        if not os.path.isfile(df_path):\n",
    "            file_ts = \"data/TS@\" + arg + \".csv\"\n",
    "            df_ts = pd.read_csv(file_ts)\n",
    "            start = df_ts.loc[0, 'Timestamp S']\n",
    "            end = df_ts.loc[len(df_ts)-1, 'Timestamp E']\n",
    "            file = file_ts.split(\"@\")[1]\n",
    "            df = pd.read_csv(\"data/\" + file, header=None)\n",
    "            df = df[(df[0] > start) & (df[0] < end)].reset_index(drop=True)\n",
    "            df = resample_data(df, 33)\n",
    "            applyOffsetRemove(df)\n",
    "            df = butter_bp_data(df, 0.5, 10, 4, 'high')\n",
    "            df = add_target(df, df_ts)\n",
    "            df = create_X_y(df)\n",
    "            np.save(df_path, df)\n",
    "            print(f\"Dataset {arg} has {df.shape[0]} entries and {df.shape[1]-1} features\")\n",
    "        else:\n",
    "            df = np.load(df_path)\n",
    "            print(f\"Dataset {arg} has {df.shape[0]} entries and {df.shape[1]-1} features\")"
   ]
  },
  {
   "cell_type": "code",
   "execution_count": 5,
   "metadata": {},
   "outputs": [
    {
     "name": "stdout",
     "output_type": "stream",
     "text": [
      "Dataset P1 has 56268 entries and 90 features\n",
      "Dataset P2 has 43827 entries and 90 features\n",
      "Dataset P3 has 33729 entries and 90 features\n",
      "Dataset P5 has 38679 entries and 90 features\n",
      "Dataset P6 has 54288 entries and 90 features\n",
      "Dataset P7 has 64023 entries and 90 features\n",
      "Dataset P8 has 45609 entries and 90 features\n",
      "Dataset P9 has 55542 entries and 90 features\n",
      "Dataset P10 has 72273 entries and 90 features\n",
      "Dataset P11 has 92898 entries and 90 features\n",
      "Dataset P12 has 39636 entries and 90 features\n",
      "Dataset P13 has 64518 entries and 90 features\n",
      "Dataset P14 has 61647 entries and 90 features\n",
      "Dataset P15 has 50229 entries and 90 features\n",
      "Dataset P16 has 25248 entries and 90 features\n"
     ]
    }
   ],
   "source": [
    "process_data(*files)"
   ]
  },
  {
   "cell_type": "markdown",
   "metadata": {},
   "source": [
    "### 2.1 Checking results"
   ]
  },
  {
   "cell_type": "code",
   "execution_count": 6,
   "metadata": {},
   "outputs": [
    {
     "data": {
      "text/plain": [
       "[<matplotlib.lines.Line2D at 0x7f441f160da0>]"
      ]
     },
     "execution_count": 6,
     "metadata": {},
     "output_type": "execute_result"
    },
    {
     "data": {
      "image/png": "[encoded data removed]",
      "text/plain": [
       "<Figure size 432x288 with 1 Axes>"
      ]
     },
     "metadata": {
      "needs_background": "light"
     },
     "output_type": "display_data"
    }
   ],
   "source": [
    "data = np.load('data/P14_p.npy')\n",
    "plt.plot(list(range(len(data))), data[:,1])"
   ]
  },
  {
   "cell_type": "code",
   "execution_count": 7,
   "metadata": {},
   "outputs": [
    {
     "name": "stdout",
     "output_type": "stream",
     "text": [
      "Resampled dataset shape Counter({0.0: 47937, 1.0: 13710})\n"
     ]
    }
   ],
   "source": [
    "print('Resampled dataset shape %s' % Counter(data[:,-1]))"
   ]
  },
  {
   "cell_type": "markdown",
   "metadata": {},
   "source": [
    "## 3. Loading Data"
   ]
  },
  {
   "cell_type": "code",
   "execution_count": 8,
   "metadata": {},
   "outputs": [],
   "source": [
    "p1 = np.load(\"data/P1_p.npy\")\n",
    "p2 = np.load(\"data/P2_p.npy\")\n",
    "p3 = np.load(\"data/P3_p.npy\")\n",
    "p5 = np.load(\"data/P5_p.npy\")\n",
    "p6 = np.load(\"data/P6_p.npy\")\n",
    "p7 = np.load(\"data/P7_p.npy\")\n",
    "p8 = np.load(\"data/P8_p.npy\")\n",
    "p9 = np.load(\"data/P9_p.npy\")\n",
    "p10 = np.load(\"data/P10_p.npy\")\n",
    "p11 = np.load(\"data/P11_p.npy\")\n",
    "p12 = np.load(\"data/P12_p.npy\")\n",
    "p13 = np.load(\"data/P13_p.npy\")\n",
    "p14 = np.load(\"data/P14_p.npy\")\n",
    "p15 = np.load(\"data/P15_p.npy\")\n",
    "p16 = np.load(\"data/P16_p.npy\")"
   ]
  },
  {
   "cell_type": "markdown",
   "metadata": {},
   "source": [
    "### 3.1 Concatenating Training and Test set"
   ]
  },
  {
   "cell_type": "code",
   "execution_count": 9,
   "metadata": {},
   "outputs": [],
   "source": [
    "def train_test_Xy(train_tuple, test_tuple):\n",
    "    data_train = np.empty(train_tuple[0].shape[1], dtype=float).reshape(1,-1)\n",
    "    data_test = np.empty(train_tuple[0].shape[1], dtype=float).reshape(1,-1)\n",
    "    for array in train_tuple:\n",
    "        data_train = np.concatenate((data_train, array))\n",
    "    for array in test_tuple:\n",
    "        data_test = np.concatenate((data_test, array))\n",
    "    return data_train[1:], data_test[1:]"
   ]
  },
  {
   "cell_type": "code",
   "execution_count": 10,
   "metadata": {},
   "outputs": [
    {
     "name": "stdout",
     "output_type": "stream",
     "text": [
      "Train data shape is (668649, 91)\n",
      "Test data shape is (129765, 91)\n"
     ]
    }
   ],
   "source": [
    "# This is an example of how the function works\n",
    "\n",
    "data_train, data_test = train_test_Xy([p1, p2, p3, p5, p7, p8, p9, p10, p11, p12, p13, p14], [p6, p15, p16])\n",
    "print(f\"Train data shape is {data_train.shape}\")\n",
    "print(f\"Test data shape is {data_test.shape}\")"
   ]
  },
  {
   "cell_type": "markdown",
   "metadata": {},
   "source": [
    "## 4. Balancing the Data"
   ]
  },
  {
   "cell_type": "markdown",
   "metadata": {},
   "source": [
    "We have unbalanced data so undersampling was prefered due to the high volume of data. \n",
    "\n",
    "RandomUnderSampler is used since we want a well distributed decrease in number of samples."
   ]
  },
  {
   "cell_type": "code",
   "execution_count": 11,
   "metadata": {},
   "outputs": [
    {
     "name": "stdout",
     "output_type": "stream",
     "text": [
      "Original dataset shape Counter({0.0: 559015, 1.0: 109634})\n"
     ]
    }
   ],
   "source": [
    "print('Original dataset shape %s' % Counter(data_train[:,-1]))"
   ]
  },
  {
   "cell_type": "code",
   "execution_count": 13,
   "metadata": {},
   "outputs": [
    {
     "name": "stdout",
     "output_type": "stream",
     "text": [
      "Resampled dataset shape Counter({0.0: 109634, 1.0: 109634})\n"
     ]
    }
   ],
   "source": [
    "rus = RandomUnderSampler()\n",
    "X_train, y_train = rus.fit_resample(data_train[:,:-1], data_train[:,-1])\n",
    "print('Resampled dataset shape %s' % Counter(y_train))"
   ]
  },
  {
   "cell_type": "markdown",
   "metadata": {},
   "source": [
    "## 5. Applying a DNN to training and test set"
   ]
  },
  {
   "cell_type": "code",
   "execution_count": 14,
   "metadata": {},
   "outputs": [],
   "source": [
    "# These functions are used in order to identify the best model during training\n",
    "\n",
    "def recall_m(y_true, y_pred):\n",
    "    true_positives = K.sum(K.round(K.clip(y_true * y_pred, 0, 1)))\n",
    "    possible_positives = K.sum(K.round(K.clip(y_true, 0, 1)))\n",
    "    recall = true_positives / (possible_positives + K.epsilon())\n",
    "    return recall\n",
    "\n",
    "def precision_m(y_true, y_pred):\n",
    "    true_positives = K.sum(K.round(K.clip(y_true * y_pred, 0, 1)))\n",
    "    predicted_positives = K.sum(K.round(K.clip(y_pred, 0, 1)))\n",
    "    precision = true_positives / (predicted_positives + K.epsilon())\n",
    "    return precision\n",
    "\n",
    "def f1_m(y_true, y_pred):\n",
    "    precision = precision_m(y_true, y_pred)\n",
    "    recall = recall_m(y_true, y_pred)\n",
    "    return 2*((precision*recall)/(precision+recall+K.epsilon()))"
   ]
  },
  {
   "cell_type": "code",
   "execution_count": 53,
   "metadata": {},
   "outputs": [
    {
     "name": "stdout",
     "output_type": "stream",
     "text": [
      "1086/1086 [==============================] - 1s 689us/step\n",
      "              precision    recall  f1-score   support\n",
      "\n",
      "         0.0       0.98      0.87      0.92     42867\n",
      "         1.0       0.66      0.94      0.77     11421\n",
      "\n",
      "    accuracy                           0.88     54288\n",
      "   macro avg       0.82      0.91      0.85     54288\n",
      "weighted avg       0.91      0.88      0.89     54288\n",
      "\n"
     ]
    }
   ],
   "source": [
    "## DEPRECATED\n",
    "\n",
    "from sklearn.metrics import classification_report\n",
    "\n",
    "y_pred = model.predict(data_test[:,:-1], batch_size=50, verbose=1)\n",
    "y_pred_bool = np.around(y_pred, decimals=0)\n",
    "\n",
    "print(classification_report(data_test[:,-1], y_pred_bool))"
   ]
  },
  {
   "cell_type": "markdown",
   "metadata": {},
   "source": [
    "### 5.1 DNN\n",
    "\n",
    "#### 5.1.1 Model"
   ]
  },
  {
   "cell_type": "code",
   "execution_count": 15,
   "metadata": {},
   "outputs": [],
   "source": [
    "def DNN(file, X_train, X_test, y_train, y_test):\n",
    "    model_path = os.path.join('models', f'{file}_dnn.h5')\n",
    "    history_path = os.path.join('models', f'{file}_dnn.csv')\n",
    "    \n",
    "    if not os.path.isfile(model_path) or not os.path.isfile(history_path):\n",
    "        model = Sequential()\n",
    "        model.add(Dense(200, input_shape=(90,), activation='relu', kernel_constraint=tf.keras.constraints.max_norm(3.)))\n",
    "        model.add(Dropout(0.5))\n",
    "        model.add(Dense(200, input_shape=(200,), activation='relu', kernel_constraint=tf.keras.constraints.max_norm(3.)))\n",
    "        model.add(Dropout(0.5))\n",
    "        model.add(Dense(200, input_shape=(200,), activation='relu', kernel_constraint=tf.keras.constraints.max_norm(3.)))\n",
    "        model.add(Dropout(0.5))\n",
    "        model.add(Dense(1, activation='sigmoid'))\n",
    "\n",
    "        initial_learning_rate=0.1\n",
    "        lr_schedule = tf.keras.optimizers.schedules.ExponentialDecay(\n",
    "            initial_learning_rate,\n",
    "            decay_steps=100000,\n",
    "            decay_rate=0.96,\n",
    "            staircase=True)\n",
    "\n",
    "        opt = SGD(learning_rate=lr_schedule, momentum=0.5)\n",
    "\n",
    "        model.compile(\n",
    "            optimizer=opt,\n",
    "            loss='binary_crossentropy',\n",
    "            metrics=['accuracy', f1_m],\n",
    "        )\n",
    "\n",
    "        es = EarlyStopping(monitor='val_loss', mode='min', verbose=0, patience=10)\n",
    "        mc = ModelCheckpoint(model_path, monitor='val_f1_m', mode='max', verbose=0, save_best_only=True)\n",
    "\n",
    "        history = model.fit(\n",
    "            x=X_train,\n",
    "            y=y_train,\n",
    "            batch_size=100,\n",
    "            epochs=50,\n",
    "            verbose=0,\n",
    "            validation_split=0.1,\n",
    "            callbacks=[es, mc],\n",
    "        )\n",
    "        history = pd.DataFrame(history.history)\n",
    "        history.to_csv(history_path)\n",
    "    \n",
    "    history = pd.read_csv(history_path)\n",
    "    model = load_model(model_path, custom_objects={'f1_m': f1_m})\n",
    "\n",
    "    # evaluate the model\n",
    "    yhat_train = (model.predict(X_train, batch_size=50, verbose=0) > 0.5).astype(\"int32\")\n",
    "    yhat_test = (model.predict(X_test, batch_size=50, verbose=0) > 0.5).astype(\"int32\")\n",
    "    \n",
    "    # accuracy: (tp + tn) / (p + n)\n",
    "    train_acc = accuracy_score(y_train, yhat_train)\n",
    "    test_acc = accuracy_score(y_test, yhat_test)\n",
    "    # precision tp / (tp + fp)\n",
    "    train_precision = precision_score(y_train, yhat_train)\n",
    "    test_precision = precision_score(y_test, yhat_test)\n",
    "    # recall: tp / (tp + fn)\n",
    "    train_recall = recall_score(y_train, yhat_train)\n",
    "    test_recall = recall_score(y_test, yhat_test)\n",
    "    # f1: 2 tp / (2 tp + fp + fn)\n",
    "    train_f1_score = f1_score(y_train, yhat_train)\n",
    "    test_f1_score = f1_score(y_test, yhat_test)\n",
    "    \n",
    "    return history['loss'], history['val_loss'], train_acc, test_acc, train_f1_score, test_f1_score, train_precision, test_precision, train_recall, test_recall"
   ]
  },
  {
   "cell_type": "markdown",
   "metadata": {},
   "source": [
    "#### 5.1.2 Patient KFold"
   ]
  },
  {
   "cell_type": "code",
   "execution_count": 16,
   "metadata": {},
   "outputs": [],
   "source": [
    "files.remove(\"P7\") # Had to be removed since the person uses support for walking"
   ]
  },
  {
   "cell_type": "code",
   "execution_count": 17,
   "metadata": {},
   "outputs": [
    {
     "name": "stdout",
     "output_type": "stream",
     "text": [
      "Train 0: 0.818, Test P1: 0.808\n",
      "Train 1: 0.821, Test P2: 0.775\n",
      "Train 2: 0.830, Test P3: 0.867\n",
      "Train 3: 0.821, Test P5: 0.690\n",
      "Train 4: 0.502, Test P6: 0.218\n",
      "Train 5: 0.823, Test P8: 0.784\n",
      "Train 6: 0.812, Test P9: 0.836\n",
      "Train 7: 0.815, Test P10: 0.903\n",
      "Train 8: 0.825, Test P11: 0.695\n",
      "Train 9: 0.818, Test P12: 0.780\n",
      "Train 10: 0.817, Test P13: 0.824\n",
      "Train 11: 0.813, Test P14: 0.840\n",
      "Train 12: 0.834, Test P15: 0.774\n",
      "Train 13: 0.817, Test P16: 0.838\n"
     ]
    },
    {
     "data": {
      "image/png": "[encoded data removed]",
      "text/plain": [
       "<Figure size 432x288 with 1 Axes>"
      ]
     },
     "metadata": {
      "needs_background": "light"
     },
     "output_type": "display_data"
    }
   ],
   "source": [
    "all_train_acc = list()\n",
    "all_test_acc = list()\n",
    "all_train_f1 = list()\n",
    "all_test_f1 = list()\n",
    "all_train_precision = list()\n",
    "all_test_precision = list()\n",
    "all_train_recall = list()\n",
    "all_test_recall = list()\n",
    "\n",
    "for i in range(14):\n",
    "    datasets = [p1, p2, p3, p5, p6, p8, p9, p10, p11, p12, p13, p14, p15, p16]\n",
    "    data_test = [datasets[i]]\n",
    "    del datasets[i]\n",
    "    \n",
    "    data_train, data_test = train_test_Xy(datasets, data_test)\n",
    "    \n",
    "    rus = RandomUnderSampler()\n",
    "    X_res, y_res = rus.fit_resample(data_train[:,:-1], data_train[:,-1])\n",
    "    \n",
    "    loss, val_loss, train_acc, test_acc, train_f1_score, test_f1_score, train_precision, test_precision, train_recall, test_recall = DNN(files[i], X_res, data_test[:,:-1], y_res, data_test[:,-1])\n",
    "    \n",
    "    all_train_acc.append(train_acc)\n",
    "    all_test_acc.append(test_acc)\n",
    "    all_train_f1.append(train_f1_score)\n",
    "    all_test_f1.append(test_f1_score)\n",
    "    all_train_precision.append(train_precision)\n",
    "    all_test_precision.append(test_precision)\n",
    "    all_train_recall.append(train_recall)\n",
    "    all_test_recall.append(test_recall)\n",
    "\n",
    "    # plot training history\n",
    "    plt.plot(loss, label='train', color='b')\n",
    "    plt.plot(val_loss, label='validation', color='g')\n",
    "        \n",
    "    print(f'Train {i}: {train_acc:.3f}, Test {files[i]}: {test_acc:.3f}')\n",
    "    \n",
    "plt.title('Training Loss')\n",
    "plt.legend(['train', 'validation'])\n",
    "plt.savefig('images/TrainingLoss.pdf')\n",
    "plt.ylabel('Loss')\n",
    "plt.xlabel('Epoch')\n",
    "plt.show()"
   ]
  },
  {
   "cell_type": "code",
   "execution_count": 18,
   "metadata": {},
   "outputs": [
    {
     "name": "stdout",
     "output_type": "stream",
     "text": [
      "Average Train Accuracy = 0.798 +- 0.0821\n",
      "Average Train Precision Score = 0.798 +- 0.0844\n",
      "Average Train Recall Score = 0.832 +- 0.0501\n",
      "Average Train F1 Score = 0.809 +- 0.0417\n",
      "====================\n",
      "Average Test Accuracy = 0.76 +- 0.161\n",
      "Average Test Precision Score = 0.483 +- 0.202\n",
      "Average Test Recall Score = 0.814 +- 0.144\n",
      "Average Test F1 Score = 0.564 +- 0.145\n"
     ]
    }
   ],
   "source": [
    "measures = [\n",
    "    'Train Accuracy',\n",
    "    'Test Accuracy',\n",
    "    'Train Precision Score', \n",
    "    'Test Precision Score',\n",
    "    'Train Recall Score',\n",
    "    'Test Recall Score',\n",
    "    'Train F1 Score',\n",
    "    'Test F1 Score'\n",
    "]\n",
    "all_lists = [all_train_acc, all_test_acc, all_train_precision, all_test_precision, all_train_recall, all_test_recall, all_train_f1, all_test_f1]\n",
    "\n",
    "for i in range(0, len(all_lists), 2):\n",
    "    print(f\"Average {measures[i]} = {np.array(all_lists[i]).mean():.3} +- {np.array(all_lists[i]).std():.3}\")\n",
    "    \n",
    "print(\"====================\")    \n",
    "\n",
    "for i in range(1, len(all_lists)+1, 2):\n",
    "    print(f\"Average {measures[i]} = {np.array(all_lists[i]).mean():.3} +- {np.array(all_lists[i]).std():.3}\")"
   ]
  },
  {
   "cell_type": "code",
   "execution_count": 19,
   "metadata": {},
   "outputs": [
    {
     "data": {
      "image/png": "[encoded data removed]",
      "text/plain": [
       "<Figure size 720x720 with 4 Axes>"
      ]
     },
     "metadata": {
      "needs_background": "light"
     },
     "output_type": "display_data"
    }
   ],
   "source": [
    "plt.figure(figsize=(10, 10))\n",
    "for i, j in enumerate(list(range(1,len(all_lists)+1,2))):\n",
    "    plt.subplot(2,2,i+1)\n",
    "    plt.bar(files, all_lists[j], color='r', edgecolor='black')\n",
    "    plt.title(measures[j])\n",
    "    plt.xticks(rotation=90)\n",
    "plt.savefig('images/scoreboard.pdf')\n",
    "plt.show()"
   ]
  },
  {
   "cell_type": "markdown",
   "metadata": {},
   "source": [
    "### Benchmarking with LogisticRegression"
   ]
  },
  {
   "cell_type": "code",
   "execution_count": null,
   "metadata": {},
   "outputs": [],
   "source": [
    "def add_cmb_std(df, window = 30):\n",
    "    data_combined1 = df[1].rolling(window, center=True).std()\n",
    "    data_combined2 = df[2].rolling(window, center=True).std()\n",
    "    data_combined3 = df[3].rolling(window, center=True).std()\n",
    "    arr = np.array([\n",
    "        data_combined1.tolist(),\n",
    "        data_combined2.tolist(),\n",
    "        data_combined3.tolist()\n",
    "        ])\n",
    "    data_combined = arr.sum(axis = 0)\n",
    "\n",
    "    df[\"combinedSTD\"] = data_combined\n",
    "    return df"
   ]
  },
  {
   "cell_type": "code",
   "execution_count": 67,
   "metadata": {},
   "outputs": [
    {
     "name": "stdout",
     "output_type": "stream",
     "text": [
      "              precision    recall  f1-score   support\n",
      "\n",
      "         0.0       0.96      0.84      0.90     22360\n",
      "         1.0       0.59      0.87      0.70      5790\n",
      "\n",
      "    accuracy                           0.85     28150\n",
      "   macro avg       0.77      0.86      0.80     28150\n",
      "weighted avg       0.88      0.85      0.86     28150\n",
      "\n"
     ]
    }
   ],
   "source": [
    "from sklearn.linear_model import LogisticRegression\n",
    "\n",
    "your_model = LogisticRegression(max_iter=1000, random_state=42)\n",
    "your_model.fit(X_res[:,3].reshape(-1, 1), y_res)\n",
    "y_pred = your_model.predict(data_test[:,3].reshape(-1 ,1))\n",
    "\n",
    "print(classification_report(data_test[:,-1], y_pred))"
   ]
  },
  {
   "cell_type": "markdown",
   "metadata": {},
   "source": [
    "We can notice that using just the Combined Standard deviation can bring a better recall, though the precision seems to be better by using our TLFFN."
   ]
  }
 ],
 "metadata": {
  "kernelspec": {
   "display_name": "mlenv",
   "language": "python",
   "name": "mlenv"
  },
  "language_info": {
   "codemirror_mode": {
    "name": "ipython",
    "version": 3
   },
   "file_extension": ".py",
   "mimetype": "text/x-python",
   "name": "python",
   "nbconvert_exporter": "python",
   "pygments_lexer": "ipython3",
   "version": "3.6.9"
  }
 },
 "nbformat": 4,
 "nbformat_minor": 4
}
