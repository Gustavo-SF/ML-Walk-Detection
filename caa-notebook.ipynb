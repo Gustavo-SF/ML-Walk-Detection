{
 "cells": [
  {
   "cell_type": "markdown",
   "metadata": {},
   "source": [
    "# Machine Learning on Walking Activity Detection in PD patients\n",
    "\n",
    "## 0. Initialization\n",
    "\n",
    "### 0.1 Imports"
   ]
  },
  {
   "cell_type": "code",
   "execution_count": 39,
   "metadata": {},
   "outputs": [],
   "source": [
    "import pandas as pd\n",
    "import numpy as np\n",
    "import glob\n",
    "from src.signal_processing import *\n",
    "from imblearn.under_sampling import RandomUnderSampler\n",
    "from collections import Counter\n",
    "from sklearn.model_selection import train_test_split\n",
    "from keras.models import Sequential\n",
    "from keras.layers import Dense\n",
    "from keras.wrappers.scikit_learn import KerasClassifier\n",
    "from keras.callbacks import EarlyStopping\n",
    "from keras.callbacks import ModelCheckpoint\n",
    "from keras.models import load_model\n",
    "from sklearn.model_selection import cross_val_score\n",
    "from sklearn.model_selection import StratifiedKFold\n",
    "from matplotlib import pyplot as plt\n",
    "import os"
   ]
  },
  {
   "cell_type": "markdown",
   "metadata": {},
   "source": [
    "### 0.2 Functions"
   ]
  },
  {
   "cell_type": "code",
   "execution_count": 2,
   "metadata": {},
   "outputs": [],
   "source": [
    "def resample_data(df, frequency):\n",
    "    dx = np.zeros(len(df))\n",
    "    dy = np.zeros(len(df))\n",
    "    dz = np.zeros(len(df))\n",
    "    xSlope = np.zeros(len(df))\n",
    "    ySlope = np.zeros(len(df))\n",
    "    zSlope = np.zeros(len(df))\n",
    "    xIntercept = np.zeros(len(df))\n",
    "    yIntercept = np.zeros(len(df))\n",
    "    zIntercept = np.zeros(len(df))\n",
    "\n",
    "    new_x = []\n",
    "    new_y = []\n",
    "    new_z = []\n",
    "\n",
    "    for i in range(1, len(df)):\n",
    "        dtime = df.loc[i, 0] - df.loc[i-1, 0]\n",
    "        dx[i] = df.loc[i, 1] - df.loc[i-1, 1]\n",
    "        dy[i] = df.loc[i, 2] - df.loc[i-1, 2]\n",
    "        dz[i] = df.loc[i, 3] - df.loc[i-1, 3]\n",
    "        xSlope[i] = dx[i] / dtime\n",
    "        ySlope[i] = dy[i] / dtime\n",
    "        zSlope[i] = dz[i] / dtime\n",
    "        xIntercept[i] = df.loc[i, 1]\n",
    "        yIntercept[i] = df.loc[i, 2]\n",
    "        zIntercept[i] = df.loc[i, 3]\n",
    "\n",
    "    df_new = pd.DataFrame()\n",
    "\n",
    "    time = list(np.around(np.arange(df.loc[0,0], df.loc[len(df)-1, 0], 1/frequency), 2))\n",
    "\n",
    "    best_j = 0\n",
    "    for i in range(len(time)):\n",
    "        best_value = float(\"inf\")\n",
    "        j = best_j\n",
    "        for _ in range(15):\n",
    "            if j == len(df):\n",
    "                break\n",
    "            diff = df.loc[j, 0] - time[i]\n",
    "            if diff > 0.15:\n",
    "                break\n",
    "\n",
    "            if abs(diff) < best_value:\n",
    "                best_value = abs(diff)\n",
    "                best_j = j\n",
    "            j+=1\n",
    "        timeI = time[i] - df.loc[best_j, 0]\n",
    "\n",
    "        best_value = df.loc[best_j, 0] - time[i]\n",
    "        new_x.append(xSlope[best_j] * best_value + xIntercept[best_j])\n",
    "        new_y.append(ySlope[best_j] * best_value + yIntercept[best_j])\n",
    "        new_z.append(zSlope[best_j] * best_value + zIntercept[best_j])\n",
    "    \n",
    "    df_new[0] = time\n",
    "    df_new[1] = new_x\n",
    "    df_new[2] = new_y\n",
    "    df_new[3] = new_z\n",
    "    return df_new\n",
    "\n",
    "import pandas as pd\n",
    "import numpy as np\n",
    "from scipy import signal\n",
    "\n",
    "\n",
    "def butter_bandpass(cut, fs, order, btype):\n",
    "    \"\"\"\n",
    "    A function which created a filter. It can be a bandpass,\n",
    "    lowpass or highpass filter to apply for signal.\n",
    "    It makes use of the signal class of the scipy package.\n",
    "        *cut: frequency value which will serve to cut the signal\n",
    "        *fs: frequency of the signal\n",
    "        *order: from 1 to N it changes the way the signal is filtered\n",
    "        *btype: 'bandpass', 'low' or 'high'\n",
    "    \"\"\"\n",
    "    nyq = 0.5 * fs\n",
    "    high_low = cut / nyq\n",
    "    b, a = signal.butter(order, high_low, btype)\n",
    "    return b, a\n",
    "\n",
    "\n",
    "def butter_bandpass_filter(data, cut, fs, order=4, btype=\"low\"):\n",
    "    \"\"\"\n",
    "    This function employs the butter_bandpass to a dataset.\n",
    "    It has some default values which are mainly used in this project.\n",
    "    \"\"\"\n",
    "    b, a = butter_bandpass(cut, fs, order, btype)\n",
    "    y = signal.filtfilt(b, a, data)\n",
    "    return y\n",
    "\n",
    "\n",
    "def butter_bp_data(data, lower_than, fs, order, btype):\n",
    "    \"\"\"\n",
    "    This function applies the bandpass to a dataset\n",
    "    with 4 dimensions, supposing that the 1st is the time dimension.\n",
    "    \"\"\"\n",
    "    for i in range(1, 4):\n",
    "        data[i] = butter_bandpass_filter(data[i], lower_than, fs, order, btype)\n",
    "    return data\n",
    "\n",
    "\n",
    "def applyOffsetRemove(df):\n",
    "    df[1] = np.subtract(df[1], np.average(df[1]))\n",
    "    df[2] = np.subtract(df[2], np.average(df[2]))\n",
    "    df[3] = np.subtract(df[3], np.average(df[3]))"
   ]
  },
  {
   "cell_type": "markdown",
   "metadata": {},
   "source": [
    "## 1 Processing data\n",
    "\n",
    "This section will consist of several parts\n",
    "\n",
    "+ Resample the data to 10Hz (Check)\n",
    "+ The data must start at first timestamp and stop at last timestamp (Check)\n",
    "+ Analysing if data should be normalized\n",
    "+ Data goes to .csv and anonimized\n",
    "\n",
    "To start I open the Timestamps CSV which contains the timestamps of start and end when the patient was walking."
   ]
  },
  {
   "cell_type": "code",
   "execution_count": 272,
   "metadata": {},
   "outputs": [
    {
     "data": {
      "text/html": [
       "<div>\n",
       "<style scoped>\n",
       "    .dataframe tbody tr th:only-of-type {\n",
       "        vertical-align: middle;\n",
       "    }\n",
       "\n",
       "    .dataframe tbody tr th {\n",
       "        vertical-align: top;\n",
       "    }\n",
       "\n",
       "    .dataframe thead th {\n",
       "        text-align: right;\n",
       "    }\n",
       "</style>\n",
       "<table border=\"1\" class=\"dataframe\">\n",
       "  <thead>\n",
       "    <tr style=\"text-align: right;\">\n",
       "      <th></th>\n",
       "      <th>Timestamp S</th>\n",
       "      <th>Timestamp E</th>\n",
       "      <th>From</th>\n",
       "      <th>To</th>\n",
       "      <th>Seconds S</th>\n",
       "      <th>Seconds E</th>\n",
       "    </tr>\n",
       "  </thead>\n",
       "  <tbody>\n",
       "    <tr>\n",
       "      <th>0</th>\n",
       "      <td>1561983739</td>\n",
       "      <td>1561983747</td>\n",
       "      <td>00:02:21</td>\n",
       "      <td>00:02:29</td>\n",
       "      <td>0</td>\n",
       "      <td>8</td>\n",
       "    </tr>\n",
       "    <tr>\n",
       "      <th>1</th>\n",
       "      <td>1561983768</td>\n",
       "      <td>1561983776</td>\n",
       "      <td>00:02:50</td>\n",
       "      <td>00:02:58</td>\n",
       "      <td>29</td>\n",
       "      <td>8</td>\n",
       "    </tr>\n",
       "    <tr>\n",
       "      <th>2</th>\n",
       "      <td>1561983784</td>\n",
       "      <td>1561983791</td>\n",
       "      <td>00:03:06</td>\n",
       "      <td>00:03:13</td>\n",
       "      <td>45</td>\n",
       "      <td>7</td>\n",
       "    </tr>\n",
       "    <tr>\n",
       "      <th>3</th>\n",
       "      <td>1561983807</td>\n",
       "      <td>1561983817</td>\n",
       "      <td>00:03:29</td>\n",
       "      <td>00:03:39</td>\n",
       "      <td>68</td>\n",
       "      <td>10</td>\n",
       "    </tr>\n",
       "    <tr>\n",
       "      <th>4</th>\n",
       "      <td>1561983831</td>\n",
       "      <td>1561983842</td>\n",
       "      <td>00:03:53</td>\n",
       "      <td>00:04:04</td>\n",
       "      <td>92</td>\n",
       "      <td>11</td>\n",
       "    </tr>\n",
       "  </tbody>\n",
       "</table>\n",
       "</div>"
      ],
      "text/plain": [
       "   Timestamp S  Timestamp E      From        To  Seconds S  Seconds E\n",
       "0   1561983739   1561983747  00:02:21  00:02:29          0          8\n",
       "1   1561983768   1561983776  00:02:50  00:02:58         29          8\n",
       "2   1561983784   1561983791  00:03:06  00:03:13         45          7\n",
       "3   1561983807   1561983817  00:03:29  00:03:39         68         10\n",
       "4   1561983831   1561983842  00:03:53  00:04:04         92         11"
      ]
     },
     "execution_count": 272,
     "metadata": {},
     "output_type": "execute_result"
    }
   ],
   "source": [
    "file_ts = \"data/timestamps/TS@P1.csv\"\n",
    "\n",
    "df_ts = pd.read_csv(file_ts)\n",
    "\n",
    "start = df_ts.loc[0, 'Timestamp S']\n",
    "end = df_ts.loc[len(df_ts)-1, 'Timestamp E']\n",
    "\n",
    "df_ts.head()"
   ]
  },
  {
   "cell_type": "markdown",
   "metadata": {},
   "source": [
    "The only values we want from this CSV are the 'Timestamp S' and 'Timestamp E'. They are the timestamps for starting and ending a walking segment.\n",
    "\n",
    "I will load the dataset for patient 1, resample it to 10Hz instead of 100Hz and cut the DataFrame on the starting timestamp and ending timestamp since there might exist movements associated with walking that were not observed in the timestamps CSV."
   ]
  },
  {
   "cell_type": "code",
   "execution_count": 273,
   "metadata": {},
   "outputs": [],
   "source": [
    "file = file_ts.split(\"@\")[1]\n",
    "df = pd.read_csv(\"data/\" + file, header=None)\n",
    "df = df[(df[0] > start) & (df[0] < end)].reset_index(drop=True)\n",
    "df = resample_data(df, 10)"
   ]
  },
  {
   "cell_type": "code",
   "execution_count": 274,
   "metadata": {},
   "outputs": [
    {
     "data": {
      "text/plain": [
       "[<matplotlib.lines.Line2D at 0x7f2905b669b0>]"
      ]
     },
     "execution_count": 274,
     "metadata": {},
     "output_type": "execute_result"
    },
    {
     "data": {
      "image/png": "[encoded data removed]",
      "text/plain": [
       "<Figure size 432x288 with 1 Axes>"
      ]
     },
     "metadata": {
      "needs_background": "light"
     },
     "output_type": "display_data"
    }
   ],
   "source": [
    "plt.plot(df[0], df[1])"
   ]
  },
  {
   "cell_type": "markdown",
   "metadata": {},
   "source": [
    "As we can see there is a lot of noise in the data, including the effect of gravity on this axis, justifying why the data is centered around -0.5g.\n",
    "\n",
    "To improve the data for classification, we remove this offset and apply a Butterworth filter to eliminate all movements above 0.5Hz. By applying this filter we are not allowing for the detection of any step that takes more than 2 seconds."
   ]
  },
  {
   "cell_type": "code",
   "execution_count": 275,
   "metadata": {},
   "outputs": [],
   "source": [
    "applyOffsetRemove(df)\n",
    "df = butter_bp_data(df, 0.5, 10, 4, 'high')"
   ]
  },
  {
   "cell_type": "code",
   "execution_count": 276,
   "metadata": {},
   "outputs": [
    {
     "data": {
      "text/plain": [
       "[<matplotlib.lines.Line2D at 0x7f2905accfd0>]"
      ]
     },
     "execution_count": 276,
     "metadata": {},
     "output_type": "execute_result"
    },
    {
     "data": {
      "image/png": "[encoded data removed]",
      "text/plain": [
       "<Figure size 432x288 with 1 Axes>"
      ]
     },
     "metadata": {
      "needs_background": "light"
     },
     "output_type": "display_data"
    }
   ],
   "source": [
    "plt.plot(df[0], df[1])"
   ]
  },
  {
   "cell_type": "code",
   "execution_count": 277,
   "metadata": {},
   "outputs": [
    {
     "name": "stdout",
     "output_type": "stream",
     "text": [
      "Maximum value for x-axis is: 0.661\n",
      "Minimum value for x-axis is: -0.598\n",
      "Maximum value for y-axis is: 0.671\n",
      "Minimum value for y-axis is: -0.504\n",
      "Maximum value for z-axis is: 0.567\n",
      "Minimum value for z-axis is: -0.573\n"
     ]
    }
   ],
   "source": [
    "# What are the max and the minimum values of this dataset?\n",
    "\n",
    "print(f\"Maximum value for x-axis is: {df[1].quantile(0.999):.3}\")\n",
    "print(f\"Minimum value for x-axis is: {df[1].quantile(0.001):.3}\")\n",
    "print(f\"Maximum value for y-axis is: {df[2].quantile(0.999):.3}\")\n",
    "print(f\"Minimum value for y-axis is: {df[2].quantile(0.001):.3}\")\n",
    "print(f\"Maximum value for z-axis is: {df[3].quantile(0.999):.3}\")\n",
    "print(f\"Minimum value for z-axis is: {df[3].quantile(0.001):.3}\")"
   ]
  },
  {
   "cell_type": "markdown",
   "metadata": {},
   "source": [
    "To understand if it is needed to normalize the data, the max and min values will be compared across 4 datasets. The first one is above, but I will check as well for 3 more files: P2, P3, P5."
   ]
  },
  {
   "cell_type": "code",
   "execution_count": 173,
   "metadata": {},
   "outputs": [],
   "source": [
    "def check_max_min_values(*args):\n",
    "    for arg in args:\n",
    "        file_ts = \"data/timestamps/TS@\" + arg + \".csv\"\n",
    "        df_ts = pd.read_csv(file_ts)\n",
    "        start = df_ts.loc[0, 'Timestamp S']\n",
    "        end = df_ts.loc[len(df_ts)-1, 'Timestamp E']\n",
    "        file = file_ts.split(\"@\")[1]\n",
    "        df = pd.read_csv(\"data/\" + file, header=None)\n",
    "        df = df[(df[0] > start) & (df[0] < end)].reset_index(drop=True)\n",
    "        df = resample_data(df, 10)\n",
    "        applyOffsetRemove(df)\n",
    "        df = butter_bp_data(df, 0.5, 10, 4, 'high')\n",
    "        print(f\"Maximum value for {arg} x-axis is: {df[1].quantile(0.999):.3}\")\n",
    "        print(f\"Minimum value for {arg} x-axis is: {df[1].quantile(0.001):.3}\")\n",
    "        print(f\"Maximum value for {arg} y-axis is: {df[2].quantile(0.999):.3}\")\n",
    "        print(f\"Minimum value for {arg} y-axis is: {df[2].quantile(0.001):.3}\")\n",
    "        print(f\"Maximum value for {arg} z-axis is: {df[3].quantile(0.999):.3}\")\n",
    "        print(f\"Minimum value for {arg} z-axis is: {df[3].quantile(0.001):.3}\")"
   ]
  },
  {
   "cell_type": "code",
   "execution_count": 174,
   "metadata": {},
   "outputs": [
    {
     "name": "stdout",
     "output_type": "stream",
     "text": [
      "Maximum value for P2 x-axis is: 0.421\n",
      "Minimum value for P2 x-axis is: -0.41\n",
      "Maximum value for P2 y-axis is: 0.376\n",
      "Minimum value for P2 y-axis is: -0.454\n",
      "Maximum value for P2 z-axis is: 0.377\n",
      "Minimum value for P2 z-axis is: -0.394\n",
      "Maximum value for P3 x-axis is: 0.507\n",
      "Minimum value for P3 x-axis is: -0.52\n",
      "Maximum value for P3 y-axis is: 0.327\n",
      "Minimum value for P3 y-axis is: -0.362\n",
      "Maximum value for P3 z-axis is: 0.467\n",
      "Minimum value for P3 z-axis is: -0.424\n",
      "Maximum value for P5 x-axis is: 0.521\n",
      "Minimum value for P5 x-axis is: -0.67\n",
      "Maximum value for P5 y-axis is: 0.516\n",
      "Minimum value for P5 y-axis is: -0.616\n",
      "Maximum value for P5 z-axis is: 0.52\n",
      "Minimum value for P5 z-axis is: -0.377\n"
     ]
    }
   ],
   "source": [
    "files = [\"P2\", \"P3\", \"P5\"]\n",
    "check_max_min_values(*files)"
   ]
  },
  {
   "cell_type": "markdown",
   "metadata": {},
   "source": [
    "Data seems to not need any normalization since it is varying always between -0.5 and 0.5 in all the 3 axis. To get these values a quantile of 99.9 and 0.1 were used in order to leave out the outlier movements.\n",
    "\n",
    "## 2. Preparing Dataset for Classifiers"
   ]
  },
  {
   "cell_type": "markdown",
   "metadata": {},
   "source": [
    "To add to our data processing we also add a new feature, a combined standard deviation computed using a rolling window of 2 seconds. And we also include lag features, with values back and forth in time. "
   ]
  },
  {
   "cell_type": "code",
   "execution_count": 266,
   "metadata": {},
   "outputs": [],
   "source": [
    "def add_cmb_std(df, window = 10):\n",
    "    data_combined1 = df[1].rolling(window, center=True).std()\n",
    "    data_combined2 = df[2].rolling(window, center=True).std()\n",
    "    data_combined3 = df[3].rolling(window, center=True).std()\n",
    "    arr = np.array([\n",
    "        data_combined1.tolist(),\n",
    "        data_combined2.tolist(),\n",
    "        data_combined3.tolist()\n",
    "        ])\n",
    "    data_combined = arr.sum(axis = 0)\n",
    "\n",
    "    df[\"combinedSTD\"] = data_combined\n",
    "    return df\n",
    "\n",
    "\n",
    "def add_target(df, df_ts):\n",
    "    for i in df_ts.index:\n",
    "        start, end = df_ts.loc[i,['Timestamp S', 'Timestamp E']].values\n",
    "        df[f\"target {i}\"] = df[0].apply(lambda x: 1 if ((x > start) & (x < end)) else 0)\n",
    "    df[\"target\"] = df.loc[:,\"target 0\":f\"target {len(df_ts)-1}\"].sum(axis=1)\n",
    "    columns = [0, 1, 2, 3, 'combinedSTD', \"target\"]\n",
    "    return df[columns]\n",
    "    \n",
    "\n",
    "def create_X_y(df, window = 20):\n",
    "    X = np.full((len(df[0]),1+int(3*window/4)*3), -50, dtype=float)\n",
    "\n",
    "    for i in range(int(window/2), len(df)-int(window/2)):\n",
    "        temp_list = list(df[[1,2,3]].loc[i,:])+\\\n",
    "            [df.loc[i,'combinedSTD']]+\\\n",
    "            df[[1, 2, 3]][int(i-window/2):i].values.reshape(1,-1).tolist()[0]+\\\n",
    "            df[[1, 2, 3]][i+1:int(i+window/4)].values.reshape(1,-1).tolist()[0]\n",
    "        temp_array = np.asarray(temp_list)\n",
    "        X[i] = temp_array\n",
    "\n",
    "    y = np.asmatrix(df['target']).T\n",
    "    data = np.hstack((X,y))\n",
    "    data = data[int(window/2):-int(window/2)]\n",
    "    return data"
   ]
  },
  {
   "cell_type": "code",
   "execution_count": 255,
   "metadata": {},
   "outputs": [
    {
     "data": {
      "text/plain": [
       "0         NaN\n",
       "1         NaN\n",
       "2         NaN\n",
       "3         NaN\n",
       "4         NaN\n",
       "5    0.555975\n",
       "6    0.585447\n",
       "7    0.467569\n",
       "8    0.441756\n",
       "9    0.378914\n",
       "Name: combinedSTD, dtype: float64"
      ]
     },
     "execution_count": 255,
     "metadata": {},
     "output_type": "execute_result"
    }
   ],
   "source": [
    "df = add_cmb_std(df, 10)\n",
    "df['combinedSTD'].head(10)"
   ]
  },
  {
   "cell_type": "code",
   "execution_count": 256,
   "metadata": {},
   "outputs": [
    {
     "data": {
      "text/html": [
       "<div>\n",
       "<style scoped>\n",
       "    .dataframe tbody tr th:only-of-type {\n",
       "        vertical-align: middle;\n",
       "    }\n",
       "\n",
       "    .dataframe tbody tr th {\n",
       "        vertical-align: top;\n",
       "    }\n",
       "\n",
       "    .dataframe thead th {\n",
       "        text-align: right;\n",
       "    }\n",
       "</style>\n",
       "<table border=\"1\" class=\"dataframe\">\n",
       "  <thead>\n",
       "    <tr style=\"text-align: right;\">\n",
       "      <th></th>\n",
       "      <th>0</th>\n",
       "      <th>1</th>\n",
       "      <th>2</th>\n",
       "      <th>3</th>\n",
       "      <th>combinedSTD</th>\n",
       "      <th>target</th>\n",
       "    </tr>\n",
       "  </thead>\n",
       "  <tbody>\n",
       "    <tr>\n",
       "      <th>0</th>\n",
       "      <td>1.559661e+09</td>\n",
       "      <td>-0.000849</td>\n",
       "      <td>-0.000197</td>\n",
       "      <td>-0.002196</td>\n",
       "      <td>NaN</td>\n",
       "      <td>0</td>\n",
       "    </tr>\n",
       "    <tr>\n",
       "      <th>1</th>\n",
       "      <td>1.559661e+09</td>\n",
       "      <td>-0.276687</td>\n",
       "      <td>-0.827281</td>\n",
       "      <td>-0.375365</td>\n",
       "      <td>NaN</td>\n",
       "      <td>1</td>\n",
       "    </tr>\n",
       "    <tr>\n",
       "      <th>2</th>\n",
       "      <td>1.559661e+09</td>\n",
       "      <td>-0.101022</td>\n",
       "      <td>-0.628911</td>\n",
       "      <td>-0.206501</td>\n",
       "      <td>NaN</td>\n",
       "      <td>1</td>\n",
       "    </tr>\n",
       "    <tr>\n",
       "      <th>3</th>\n",
       "      <td>1.559661e+09</td>\n",
       "      <td>-0.102140</td>\n",
       "      <td>-0.376279</td>\n",
       "      <td>-0.202667</td>\n",
       "      <td>NaN</td>\n",
       "      <td>1</td>\n",
       "    </tr>\n",
       "    <tr>\n",
       "      <th>4</th>\n",
       "      <td>1.559661e+09</td>\n",
       "      <td>-0.095422</td>\n",
       "      <td>-0.196530</td>\n",
       "      <td>-0.113456</td>\n",
       "      <td>NaN</td>\n",
       "      <td>1</td>\n",
       "    </tr>\n",
       "  </tbody>\n",
       "</table>\n",
       "</div>"
      ],
      "text/plain": [
       "              0         1         2         3  combinedSTD  target\n",
       "0  1.559661e+09 -0.000849 -0.000197 -0.002196          NaN       0\n",
       "1  1.559661e+09 -0.276687 -0.827281 -0.375365          NaN       1\n",
       "2  1.559661e+09 -0.101022 -0.628911 -0.206501          NaN       1\n",
       "3  1.559661e+09 -0.102140 -0.376279 -0.202667          NaN       1\n",
       "4  1.559661e+09 -0.095422 -0.196530 -0.113456          NaN       1"
      ]
     },
     "execution_count": 256,
     "metadata": {},
     "output_type": "execute_result"
    }
   ],
   "source": [
    "df = add_target(df)\n",
    "df.head()"
   ]
  },
  {
   "cell_type": "code",
   "execution_count": 257,
   "metadata": {},
   "outputs": [
    {
     "data": {
      "text/plain": [
       "0    10462\n",
       "1     2828\n",
       "Name: target, dtype: int64"
      ]
     },
     "execution_count": 257,
     "metadata": {},
     "output_type": "execute_result"
    }
   ],
   "source": [
    "df['target'].value_counts()"
   ]
  },
  {
   "cell_type": "code",
   "execution_count": 258,
   "metadata": {},
   "outputs": [],
   "source": [
    "df = create_X_y(df, 20)"
   ]
  },
  {
   "cell_type": "code",
   "execution_count": 261,
   "metadata": {},
   "outputs": [
    {
     "name": "stdout",
     "output_type": "stream",
     "text": [
      "This dataset has 13270 entries and 47 features\n"
     ]
    }
   ],
   "source": [
    "print(f\"This dataset has {df.shape[0]} entries and {df.shape[1]} features\")"
   ]
  },
  {
   "cell_type": "markdown",
   "metadata": {},
   "source": [
    "### 2.1 Preparing files for all patients"
   ]
  },
  {
   "cell_type": "code",
   "execution_count": 264,
   "metadata": {},
   "outputs": [
    {
     "data": {
      "text/plain": [
       "['P1',\n",
       " 'P2',\n",
       " 'P3',\n",
       " 'P5',\n",
       " 'P6',\n",
       " 'P7',\n",
       " 'P8',\n",
       " 'P9',\n",
       " 'P10',\n",
       " 'P11',\n",
       " 'P12',\n",
       " 'P13',\n",
       " 'P14',\n",
       " 'P15',\n",
       " 'P16']"
      ]
     },
     "execution_count": 264,
     "metadata": {},
     "output_type": "execute_result"
    }
   ],
   "source": [
    "files = [f\"P{n}\" for n in range(1,17)]\n",
    "files.remove(\"P4\") # Had to be removed due to problems in timestamps\n",
    "files"
   ]
  },
  {
   "cell_type": "code",
   "execution_count": 267,
   "metadata": {},
   "outputs": [],
   "source": [
    "def process_data(*args):\n",
    "    for arg in args:\n",
    "        df_path = os.path.join(\"data\", f\"{arg}_p.npy\")\n",
    "        if not os.path.isfile(df_path):\n",
    "            file_ts = \"data/timestamps/TS@\" + arg + \".csv\"\n",
    "            df_ts = pd.read_csv(file_ts)\n",
    "            start = df_ts.loc[0, 'Timestamp S']\n",
    "            end = df_ts.loc[len(df_ts)-1, 'Timestamp E']\n",
    "            file = file_ts.split(\"@\")[1]\n",
    "            df = pd.read_csv(\"data/\" + file, header=None)\n",
    "            df = df[(df[0] > start) & (df[0] < end)].reset_index(drop=True)\n",
    "            df = resample_data(df, 10)\n",
    "            applyOffsetRemove(df)\n",
    "            df = butter_bp_data(df, 0.5, 10, 4, 'high')\n",
    "            df = add_cmb_std(df, 10)\n",
    "            df = add_target(df, df_ts)\n",
    "            df = create_X_y(df, 20)\n",
    "            np.save(df_path, df)\n",
    "            print(f\"Dataset {arg} has {df.shape[0]} entries and {df.shape[1]-1} features\")\n",
    "        else:\n",
    "            df = np.load(df_path)\n",
    "            print(f\"Dataset {arg} has {df.shape[0]} entries and {df.shape[1]-1} features\")"
   ]
  },
  {
   "cell_type": "code",
   "execution_count": 268,
   "metadata": {},
   "outputs": [
    {
     "name": "stdout",
     "output_type": "stream",
     "text": [
      "Dataset P1 has 17040 entries and 46 features\n",
      "Dataset P2 has 13270 entries and 46 features\n",
      "Dataset P3 has 10210 entries and 46 features\n",
      "Dataset P5 has 11710 entries and 46 features\n",
      "Dataset P6 has 16440 entries and 46 features\n",
      "Dataset P7 has 19390 entries and 46 features\n",
      "Dataset P8 has 13810 entries and 46 features\n",
      "Dataset P9 has 16820 entries and 46 features\n",
      "Dataset P10 has 21890 entries and 46 features\n",
      "Dataset P11 has 28140 entries and 46 features\n",
      "Dataset P12 has 12000 entries and 46 features\n",
      "Dataset P13 has 19540 entries and 46 features\n",
      "Dataset P14 has 18670 entries and 46 features\n",
      "Dataset P15 has 15210 entries and 46 features\n",
      "Dataset P16 has 7640 entries and 46 features\n"
     ]
    }
   ],
   "source": [
    "process_data(*files)"
   ]
  },
  {
   "cell_type": "markdown",
   "metadata": {},
   "source": [
    "### 2.1 Checking results"
   ]
  },
  {
   "cell_type": "code",
   "execution_count": 320,
   "metadata": {},
   "outputs": [
    {
     "data": {
      "text/plain": [
       "[<matplotlib.lines.Line2D at 0x7f2905c27a90>]"
      ]
     },
     "execution_count": 320,
     "metadata": {},
     "output_type": "execute_result"
    },
    {
     "data": {
      "image/png": "[encoded data removed]",
      "text/plain": [
       "<Figure size 432x288 with 1 Axes>"
      ]
     },
     "metadata": {
      "needs_background": "light"
     },
     "output_type": "display_data"
    }
   ],
   "source": [
    "data = np.load('data/P14_p.npy')\n",
    "plt.plot(list(range(len(data))), data[:,1])"
   ]
  },
  {
   "cell_type": "code",
   "execution_count": 321,
   "metadata": {},
   "outputs": [
    {
     "name": "stdout",
     "output_type": "stream",
     "text": [
      "Resampled dataset shape Counter({0.0: 14541, 1.0: 4129})\n"
     ]
    }
   ],
   "source": [
    "print('Resampled dataset shape %s' % Counter(data[:,-1]))"
   ]
  },
  {
   "cell_type": "markdown",
   "metadata": {},
   "source": [
    "## 3. Loading Data"
   ]
  },
  {
   "cell_type": "code",
   "execution_count": 3,
   "metadata": {},
   "outputs": [],
   "source": [
    "p1 = np.load(\"data/P1_p.npy\")\n",
    "p2 = np.load(\"data/P2_p.npy\")\n",
    "p3 = np.load(\"data/P3_p.npy\")\n",
    "p5 = np.load(\"data/P5_p.npy\")\n",
    "p6 = np.load(\"data/P6_p.npy\")\n",
    "p7 = np.load(\"data/P7_p.npy\")\n",
    "p8 = np.load(\"data/P8_p.npy\")\n",
    "p9 = np.load(\"data/P9_p.npy\")\n",
    "p10 = np.load(\"data/P10_p.npy\")\n",
    "p11 = np.load(\"data/P11_p.npy\")\n",
    "p12 = np.load(\"data/P12_p.npy\")\n",
    "p13 = np.load(\"data/P13_p.npy\")\n",
    "p14 = np.load(\"data/P14_p.npy\")\n",
    "p15 = np.load(\"data/P15_p.npy\")\n",
    "p16 = np.load(\"data/P16_p.npy\")"
   ]
  },
  {
   "cell_type": "markdown",
   "metadata": {},
   "source": [
    "### 3.1 Concatenating Training and Test set"
   ]
  },
  {
   "cell_type": "code",
   "execution_count": 4,
   "metadata": {},
   "outputs": [],
   "source": [
    "def train_test_Xy(train_tuple, test_tuple):\n",
    "    data_train = np.empty(47, dtype=float).reshape(1,-1)\n",
    "    data_test = np.empty(47, dtype=float).reshape(1,-1)\n",
    "    for array in train_tuple:\n",
    "        data_train = np.concatenate((data_train, array))\n",
    "    for array in test_tuple:\n",
    "        data_test = np.concatenate((data_test, array))\n",
    "    return data_train[1:], data_test[1:]"
   ]
  },
  {
   "cell_type": "code",
   "execution_count": 22,
   "metadata": {},
   "outputs": [],
   "source": [
    "data_train, data_test = train_test_Xy((p1, p2, p3, p7, p8, p9, p10, p11, p12, p13, p14, p15, p16), (p5, p6))"
   ]
  },
  {
   "cell_type": "code",
   "execution_count": 23,
   "metadata": {},
   "outputs": [
    {
     "data": {
      "text/plain": [
       "(213630, 47)"
      ]
     },
     "execution_count": 23,
     "metadata": {},
     "output_type": "execute_result"
    }
   ],
   "source": [
    "data_train.shape"
   ]
  },
  {
   "cell_type": "code",
   "execution_count": 24,
   "metadata": {},
   "outputs": [
    {
     "data": {
      "text/plain": [
       "(28150, 47)"
      ]
     },
     "execution_count": 24,
     "metadata": {},
     "output_type": "execute_result"
    }
   ],
   "source": [
    "data_test.shape"
   ]
  },
  {
   "cell_type": "markdown",
   "metadata": {},
   "source": [
    "## 4. Balancing the Data"
   ]
  },
  {
   "cell_type": "markdown",
   "metadata": {},
   "source": [
    "We have unbalanced data so an undersampling is under way. RandomUnderSampler will be used since we want a well distributed increase in number of samples."
   ]
  },
  {
   "cell_type": "code",
   "execution_count": 25,
   "metadata": {},
   "outputs": [
    {
     "name": "stdout",
     "output_type": "stream",
     "text": [
      "Original dataset shape Counter({0.0: 178447, 1.0: 35183})\n"
     ]
    }
   ],
   "source": [
    "print('Original dataset shape %s' % Counter(data_train[:,-1]))"
   ]
  },
  {
   "cell_type": "code",
   "execution_count": 26,
   "metadata": {},
   "outputs": [
    {
     "name": "stdout",
     "output_type": "stream",
     "text": [
      "Resampled dataset shape Counter({0.0: 35183, 1.0: 35183})\n"
     ]
    }
   ],
   "source": [
    "rus = RandomUnderSampler()\n",
    "X_res, y_res = rus.fit_resample(data_train[:,:-1], data_train[:,-1])\n",
    "print('Resampled dataset shape %s' % Counter(y_res))"
   ]
  },
  {
   "cell_type": "markdown",
   "metadata": {},
   "source": [
    "## 5. Applying a Time Lagged Feed Forward Network to a training and test set"
   ]
  },
  {
   "cell_type": "code",
   "execution_count": 65,
   "metadata": {},
   "outputs": [
    {
     "name": "stdout",
     "output_type": "stream",
     "text": [
      "Train on 56292 samples, validate on 14074 samples\n",
      "Epoch 1/50\n",
      "56292/56292 [==============================] - 3s 45us/step - loss: 0.4199 - accuracy: 0.7967 - val_loss: 1.0335 - val_accuracy: 0.4297\n",
      "Epoch 2/50\n",
      "56292/56292 [==============================] - 3s 46us/step - loss: 0.3553 - accuracy: 0.8406 - val_loss: 0.8494 - val_accuracy: 0.4957\n",
      "Epoch 3/50\n",
      "56292/56292 [==============================] - 3s 45us/step - loss: 0.3262 - accuracy: 0.8563 - val_loss: 1.0081 - val_accuracy: 0.4338\n",
      "Epoch 4/50\n",
      "56292/56292 [==============================] - 3s 45us/step - loss: 0.3008 - accuracy: 0.8698 - val_loss: 1.0211 - val_accuracy: 0.4728\n",
      "Epoch 5/50\n",
      "56292/56292 [==============================] - 3s 46us/step - loss: 0.2787 - accuracy: 0.8807 - val_loss: 0.9327 - val_accuracy: 0.5523\n",
      "Epoch 6/50\n",
      "56292/56292 [==============================] - 3s 45us/step - loss: 0.2585 - accuracy: 0.8906 - val_loss: 1.0455 - val_accuracy: 0.5073\n",
      "Epoch 7/50\n",
      "56292/56292 [==============================] - 3s 45us/step - loss: 0.2410 - accuracy: 0.8985 - val_loss: 1.4250 - val_accuracy: 0.4565\n",
      "Epoch 8/50\n",
      "56292/56292 [==============================] - 3s 46us/step - loss: 0.2215 - accuracy: 0.9090 - val_loss: 1.6203 - val_accuracy: 0.4588\n",
      "Epoch 9/50\n",
      "56292/56292 [==============================] - 3s 46us/step - loss: 0.2048 - accuracy: 0.9179 - val_loss: 1.7874 - val_accuracy: 0.4287\n",
      "Epoch 10/50\n",
      "56292/56292 [==============================] - 3s 46us/step - loss: 0.1878 - accuracy: 0.9262 - val_loss: 2.0415 - val_accuracy: 0.4616\n",
      "Epoch 11/50\n",
      "56292/56292 [==============================] - 3s 45us/step - loss: 0.1721 - accuracy: 0.9336 - val_loss: 2.6640 - val_accuracy: 0.4088\n",
      "Epoch 12/50\n",
      "56292/56292 [==============================] - 3s 46us/step - loss: 0.1569 - accuracy: 0.9401 - val_loss: 2.7490 - val_accuracy: 0.4545\n",
      "Epoch 13/50\n",
      "56292/56292 [==============================] - 3s 46us/step - loss: 0.1471 - accuracy: 0.9452 - val_loss: 2.8714 - val_accuracy: 0.4432\n",
      "Epoch 14/50\n",
      "56292/56292 [==============================] - 3s 46us/step - loss: 0.1353 - accuracy: 0.9492 - val_loss: 3.0372 - val_accuracy: 0.4554\n",
      "Epoch 15/50\n",
      "56292/56292 [==============================] - 3s 46us/step - loss: 0.1263 - accuracy: 0.9526 - val_loss: 3.7091 - val_accuracy: 0.4059\n",
      "Epoch 16/50\n",
      "56292/56292 [==============================] - 3s 46us/step - loss: 0.1182 - accuracy: 0.9573 - val_loss: 3.8263 - val_accuracy: 0.4726\n",
      "Epoch 17/50\n",
      "56292/56292 [==============================] - 3s 46us/step - loss: 0.1118 - accuracy: 0.9594 - val_loss: 3.6947 - val_accuracy: 0.4668\n",
      "Epoch 18/50\n",
      "56292/56292 [==============================] - 3s 46us/step - loss: 0.1055 - accuracy: 0.9613 - val_loss: 3.9346 - val_accuracy: 0.4694\n",
      "Epoch 19/50\n",
      "56292/56292 [==============================] - 3s 46us/step - loss: 0.1031 - accuracy: 0.9624 - val_loss: 3.8855 - val_accuracy: 0.4928\n",
      "Epoch 20/50\n",
      "56292/56292 [==============================] - 3s 47us/step - loss: 0.0924 - accuracy: 0.9673 - val_loss: 3.7215 - val_accuracy: 0.4832\n",
      "Epoch 21/50\n",
      "56292/56292 [==============================] - 3s 46us/step - loss: 0.0900 - accuracy: 0.9686 - val_loss: 4.4366 - val_accuracy: 0.4787\n",
      "Epoch 22/50\n",
      "56292/56292 [==============================] - 3s 47us/step - loss: 0.0881 - accuracy: 0.9692 - val_loss: 5.5635 - val_accuracy: 0.3995\n",
      "Epoch 23/50\n",
      "56292/56292 [==============================] - 3s 48us/step - loss: 0.0821 - accuracy: 0.9710 - val_loss: 3.8125 - val_accuracy: 0.5458\n",
      "Epoch 24/50\n",
      "56292/56292 [==============================] - 3s 47us/step - loss: 0.0805 - accuracy: 0.9721 - val_loss: 4.7368 - val_accuracy: 0.4903\n",
      "Epoch 25/50\n",
      "56292/56292 [==============================] - 3s 46us/step - loss: 0.0798 - accuracy: 0.9713 - val_loss: 4.8921 - val_accuracy: 0.4803\n",
      "Epoch 26/50\n",
      "56292/56292 [==============================] - 3s 48us/step - loss: 0.0712 - accuracy: 0.9756 - val_loss: 4.3468 - val_accuracy: 0.5107\n",
      "Epoch 27/50\n",
      "56292/56292 [==============================] - 3s 48us/step - loss: 0.0757 - accuracy: 0.9745 - val_loss: 5.3460 - val_accuracy: 0.4341\n",
      "Epoch 28/50\n",
      "56292/56292 [==============================] - 3s 47us/step - loss: 0.0666 - accuracy: 0.9778 - val_loss: 5.6263 - val_accuracy: 0.4496\n",
      "Epoch 29/50\n",
      "56292/56292 [==============================] - 3s 48us/step - loss: 0.0682 - accuracy: 0.9771 - val_loss: 4.7496 - val_accuracy: 0.5502\n",
      "Epoch 30/50\n",
      "56292/56292 [==============================] - 3s 48us/step - loss: 0.0644 - accuracy: 0.9784 - val_loss: 5.1962 - val_accuracy: 0.5055\n",
      "Epoch 31/50\n",
      "56292/56292 [==============================] - 3s 49us/step - loss: 0.0659 - accuracy: 0.9782 - val_loss: 4.0094 - val_accuracy: 0.5330\n",
      "Epoch 32/50\n",
      "56292/56292 [==============================] - 3s 48us/step - loss: 0.0620 - accuracy: 0.9795 - val_loss: 5.2066 - val_accuracy: 0.4680\n",
      "Epoch 00032: early stopping\n",
      "\n",
      "\n",
      "Train: 0.826, Test: 0.852\n"
     ]
    },
    {
     "data": {
      "image/png": "[encoded data removed]",
      "text/plain": [
       "<Figure size 432x288 with 1 Axes>"
      ]
     },
     "metadata": {
      "needs_background": "light"
     },
     "output_type": "display_data"
    }
   ],
   "source": [
    "model = Sequential()\n",
    "model.add(Dense(200, input_shape=(46,), activation='relu'))\n",
    "model.add(Dense(200, input_shape=(200,), activation='relu'))\n",
    "model.add(Dense(200, input_shape=(200,), activation='relu'))\n",
    "model.add(Dense(1, activation='sigmoid'))\n",
    "model.compile(\n",
    "    'adam',\n",
    "    loss='binary_crossentropy',\n",
    "    metrics=['accuracy'],\n",
    ")\n",
    "\n",
    "es = EarlyStopping(monitor='val_loss', mode='min', verbose=1, patience=30)\n",
    "mc = ModelCheckpoint('models/best_model.h5', monitor='val_accuracy', mode='max', verbose=0, save_best_only=True)\n",
    "\n",
    "history = model.fit(\n",
    "    x=np.array(X_res),\n",
    "    y=np.array(y_res),\n",
    "    batch_size=30,\n",
    "    epochs=50,\n",
    "    verbose=1,\n",
    "    validation_split=0.2,\n",
    "    callbacks=[es, mc]\n",
    ")\n",
    "\n",
    "model = load_model('models/best_model.h5')\n",
    "\n",
    "# evaluate the model\n",
    "_, train_acc = model.evaluate(X_res, y_res, verbose=0)\n",
    "_, test_acc = model.evaluate(data_test[:,:-1], data_test[:,-1], verbose=0)\n",
    "print('\\n\\nTrain: %.3f, Test: %.3f' % (train_acc, test_acc))\n",
    "\n",
    "# plot training history\n",
    "plt.plot(history.history['loss'], label='train')\n",
    "plt.plot(history.history['val_loss'], label='validation')\n",
    "plt.legend()\n",
    "plt.show()"
   ]
  },
  {
   "cell_type": "markdown",
   "metadata": {},
   "source": [
    "### Testing"
   ]
  },
  {
   "cell_type": "code",
   "execution_count": 66,
   "metadata": {},
   "outputs": [
    {
     "name": "stdout",
     "output_type": "stream",
     "text": [
      "28150/28150 [==============================] - 0s 8us/step\n",
      "              precision    recall  f1-score   support\n",
      "\n",
      "         0.0       0.95      0.86      0.90     22360\n",
      "         1.0       0.61      0.81      0.69      5790\n",
      "\n",
      "    accuracy                           0.85     28150\n",
      "   macro avg       0.78      0.84      0.80     28150\n",
      "weighted avg       0.88      0.85      0.86     28150\n",
      "\n"
     ]
    }
   ],
   "source": [
    "from sklearn.metrics import classification_report\n",
    "\n",
    "y_pred = model.predict(data_test[:,:-1], batch_size=50, verbose=1)\n",
    "y_pred_bool = np.around(y_pred, decimals=0)\n",
    "\n",
    "print(classification_report(data_test[:,-1], y_pred_bool))"
   ]
  },
  {
   "cell_type": "markdown",
   "metadata": {},
   "source": [
    "### Benchmarking with LogisticRegression"
   ]
  },
  {
   "cell_type": "code",
   "execution_count": 67,
   "metadata": {},
   "outputs": [
    {
     "name": "stdout",
     "output_type": "stream",
     "text": [
      "              precision    recall  f1-score   support\n",
      "\n",
      "         0.0       0.96      0.84      0.90     22360\n",
      "         1.0       0.59      0.87      0.70      5790\n",
      "\n",
      "    accuracy                           0.85     28150\n",
      "   macro avg       0.77      0.86      0.80     28150\n",
      "weighted avg       0.88      0.85      0.86     28150\n",
      "\n"
     ]
    }
   ],
   "source": [
    "from sklearn.linear_model import LogisticRegression\n",
    "\n",
    "your_model = LogisticRegression(max_iter=1000, random_state=42)\n",
    "your_model.fit(X_res[:,3].reshape(-1, 1), y_res)\n",
    "y_pred = your_model.predict(data_test[:,3].reshape(-1 ,1))\n",
    "\n",
    "print(classification_report(data_test[:,-1], y_pred))"
   ]
  },
  {
   "cell_type": "markdown",
   "metadata": {},
   "source": [
    "We can notice that using just the Combined Standard deviation can bring a better recall, though the precision seems to be better by using our TLFFN."
   ]
  }
 ],
 "metadata": {
  "kernelspec": {
   "display_name": "mlenv",
   "language": "python",
   "name": "mlenv"
  },
  "language_info": {
   "codemirror_mode": {
    "name": "ipython",
    "version": 3
   },
   "file_extension": ".py",
   "mimetype": "text/x-python",
   "name": "python",
   "nbconvert_exporter": "python",
   "pygments_lexer": "ipython3",
   "version": "3.6.9"
  }
 },
 "nbformat": 4,
 "nbformat_minor": 4
}
